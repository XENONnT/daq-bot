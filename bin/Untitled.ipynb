{
 "cells": [
  {
   "cell_type": "code",
   "execution_count": 8,
   "id": "established-photographer",
   "metadata": {
    "ExecuteTime": {
     "end_time": "2021-03-09T13:08:36.183360Z",
     "start_time": "2021-03-09T13:08:36.180731Z"
    }
   },
   "outputs": [],
   "source": [
    "import datetime\n",
    "import utilix\n",
    "import pytz\n",
    "import logging\n",
    "log = logging.getLogger()"
   ]
  },
  {
   "cell_type": "code",
   "execution_count": 5,
   "id": "located-corps",
   "metadata": {
    "ExecuteTime": {
     "end_time": "2021-03-09T13:07:53.475077Z",
     "start_time": "2021-03-09T13:07:53.462867Z"
    }
   },
   "outputs": [],
   "source": [
    "run_col = utilix.rundb.xent_collection()\n"
   ]
  },
  {
   "cell_type": "code",
   "execution_count": 6,
   "id": "developing-providence",
   "metadata": {
    "ExecuteTime": {
     "end_time": "2021-03-09T08:33:56.918735Z",
     "start_time": "2021-03-09T08:33:56.915494Z"
    }
   },
   "outputs": [
    {
     "data": {
      "text/plain": [
       "datetime.datetime(2021, 3, 9, 8, 33, 56, 916153, tzinfo=<UTC>)"
      ]
     },
     "execution_count": 6,
     "metadata": {},
     "output_type": "execute_result"
    }
   ],
   "source": [
    "datetime.datetime.now(pytz.utc)"
   ]
  },
  {
   "cell_type": "code",
   "execution_count": 8,
   "id": "steady-phenomenon",
   "metadata": {
    "ExecuteTime": {
     "end_time": "2021-03-09T08:36:00.918187Z",
     "start_time": "2021-03-09T08:36:00.915463Z"
    }
   },
   "outputs": [],
   "source": [
    "dt = datetime.datetime.now(pytz.utc)\n",
    "dt = datetime.datetime(dt.year, dt.month, dt.day)"
   ]
  },
  {
   "cell_type": "code",
   "execution_count": 40,
   "id": "nonprofit-twist",
   "metadata": {
    "ExecuteTime": {
     "end_time": "2021-03-09T09:59:53.119920Z",
     "start_time": "2021-03-09T09:59:53.117776Z"
    }
   },
   "outputs": [],
   "source": [
    "import logging"
   ]
  },
  {
   "cell_type": "code",
   "execution_count": 41,
   "id": "mineral-committee",
   "metadata": {
    "ExecuteTime": {
     "end_time": "2021-03-09T09:59:53.754546Z",
     "start_time": "2021-03-09T09:59:53.750526Z"
    }
   },
   "outputs": [
    {
     "data": {
      "text/plain": [
       "(10,)"
      ]
     },
     "execution_count": 41,
     "metadata": {},
     "output_type": "execute_result"
    }
   ],
   "source": [
    "getattr(logging, 'debug'.upper()),"
   ]
  },
  {
   "cell_type": "code",
   "execution_count": 51,
   "id": "thrown-relief",
   "metadata": {
    "ExecuteTime": {
     "end_time": "2021-03-09T13:21:09.075504Z",
     "start_time": "2021-03-09T13:21:09.071470Z"
    }
   },
   "outputs": [],
   "source": [
    "def get_runs(start, stop=None, detectors='tpc'):\n",
    "    if stop is None:\n",
    "        stop = start + datetime.timedelta(days=10000)\n",
    "#     query = {{\"$or\":[{'end':{'$gt': start}}, {'end': None}]},\n",
    "             \n",
    "#              { \"start\" : {\"$lt\": stop}}}\n",
    "    query = ({\"$or\":[ {\"end\": None}, {'end':{'$gt': start}}], \n",
    "             \"start\" : {\"$lt\": stop}})\n",
    "    if detectors:\n",
    "        query.update({'detectors': detectors})\n",
    "    log.debug(f'Querying {query}')\n",
    "    runs = [f\"{r['number']:06}\" for r in run_col.find(query,\n",
    "                                                      projection={'number': 1})]\n",
    "    runs.sort()\n",
    "    log.debug(f'Found {runs} between {start} and {stop}')\n",
    "    return runs"
   ]
  },
  {
   "cell_type": "code",
   "execution_count": 52,
   "id": "standing-performance",
   "metadata": {
    "ExecuteTime": {
     "end_time": "2021-03-09T13:21:10.166923Z",
     "start_time": "2021-03-09T13:21:09.976306Z"
    }
   },
   "outputs": [
    {
     "data": {
      "text/plain": [
       "['014061', '014064']"
      ]
     },
     "execution_count": 52,
     "metadata": {},
     "output_type": "execute_result"
    }
   ],
   "source": [
    "t = datetime.datetime.now(pytz.utc)-datetime.timedelta(seconds=7200)\n",
    "get_runs(t)\n"
   ]
  },
  {
   "cell_type": "code",
   "execution_count": 50,
   "id": "exceptional-collect",
   "metadata": {
    "ExecuteTime": {
     "end_time": "2021-03-09T13:20:56.563546Z",
     "start_time": "2021-03-09T13:20:56.558788Z"
    }
   },
   "outputs": [
    {
     "data": {
      "text/plain": [
       "{'start': {'$lt': 2}}"
      ]
     },
     "execution_count": 50,
     "metadata": {},
     "output_type": "execute_result"
    }
   ],
   "source": [
    "{\"start\" : {\"$lt\": 2}}"
   ]
  },
  {
   "cell_type": "code",
   "execution_count": 31,
   "id": "tired-article",
   "metadata": {
    "ExecuteTime": {
     "end_time": "2021-03-09T13:13:29.378571Z",
     "start_time": "2021-03-09T13:13:29.173153Z"
    }
   },
   "outputs": [
    {
     "data": {
      "text/plain": [
       "{'_id': ObjectId('60002fa31260a3e9cfccb34c'),\n",
       " 'number': 11794,\n",
       " 'detectors': ['muon_veto'],\n",
       " 'user': 'molinario',\n",
       " 'mode': 'mv_test_selftrigger_1',\n",
       " 'daq_config': {'_id': ObjectId('5ffd68846c1ffa6aa7b6a827'),\n",
       "  'name': 'mv_test_selftrigger_1',\n",
       "  'detector': 'muon_veto',\n",
       "  'description': 'MV self trigger',\n",
       "  'user': 'molinario',\n",
       "  'includes': ['mv_boards_all',\n",
       "   'mv_channel_map',\n",
       "   'mv_registers_internal_trigger',\n",
       "   'mv_thresholds_spe_2',\n",
       "   'xenonnt_mv_strax_output',\n",
       "   'xenonnt_master_host_config'],\n",
       "  'V2718': {'muon_veto': {'pulser_freq': 0,\n",
       "    'neutron_veto': 0,\n",
       "    'muon_veto': 0,\n",
       "    'led_trigger': 0,\n",
       "    's_in': 1}},\n",
       "  'baseline_fixed_value': 16000,\n",
       "  'baseline_dac_mode': 'fixed',\n",
       "  'run_start': 1,\n",
       "  'processing_threads': {'reader5_reader_0': 4},\n",
       "  'boards': [{'vme_address': '11110000',\n",
       "    'crate': 0,\n",
       "    'host': 'reader5_reader_0',\n",
       "    'link': 1,\n",
       "    'board': 870,\n",
       "    'type': 'V1724_MV'},\n",
       "   {'vme_address': '22220000',\n",
       "    'crate': 1,\n",
       "    'host': 'reader5_reader_0',\n",
       "    'link': 1,\n",
       "    'board': 885,\n",
       "    'type': 'V1724_MV'},\n",
       "   {'vme_address': '33330000',\n",
       "    'crate': 2,\n",
       "    'host': 'reader5_reader_0',\n",
       "    'link': 1,\n",
       "    'board': 1011,\n",
       "    'type': 'V1724_MV'},\n",
       "   {'vme_address': '44440000',\n",
       "    'crate': 3,\n",
       "    'host': 'reader5_reader_0',\n",
       "    'link': 1,\n",
       "    'board': 850,\n",
       "    'type': 'V1724_MV'},\n",
       "   {'vme_address': '55550000',\n",
       "    'crate': 0,\n",
       "    'host': 'reader5_reader_0',\n",
       "    'link': 2,\n",
       "    'board': 853,\n",
       "    'type': 'V1724_MV'},\n",
       "   {'vme_address': '66660000',\n",
       "    'crate': 1,\n",
       "    'host': 'reader5_reader_0',\n",
       "    'link': 2,\n",
       "    'board': 907,\n",
       "    'type': 'V1724_MV'},\n",
       "   {'vme_address': '77770000',\n",
       "    'crate': 2,\n",
       "    'host': 'reader5_reader_0',\n",
       "    'link': 2,\n",
       "    'board': 882,\n",
       "    'type': 'V1724_MV'},\n",
       "   {'vme_address': '88880000',\n",
       "    'crate': 3,\n",
       "    'host': 'reader5_reader_0',\n",
       "    'link': 2,\n",
       "    'board': 839,\n",
       "    'type': 'V1724_MV'},\n",
       "   {'vme_address': '99990000',\n",
       "    'crate': 0,\n",
       "    'host': 'reader5_reader_0',\n",
       "    'link': 3,\n",
       "    'board': 954,\n",
       "    'type': 'V1724_MV'},\n",
       "   {'vme_address': 'AAAA0000',\n",
       "    'crate': 1,\n",
       "    'host': 'reader5_reader_0',\n",
       "    'link': 3,\n",
       "    'board': 888,\n",
       "    'type': 'V1724_MV'},\n",
       "   {'vme_address': 'BBBB0000',\n",
       "    'crate': 2,\n",
       "    'host': 'reader5_reader_0',\n",
       "    'link': 3,\n",
       "    'board': 843,\n",
       "    'type': 'V1724_MV'},\n",
       "   {'vme_address': 'FFFF0000',\n",
       "    'crate': 0,\n",
       "    'host': 'reader5_controller_0',\n",
       "    'link': 0,\n",
       "    'board': 398,\n",
       "    'type': 'V1495'},\n",
       "   {'vme_address': '00000000',\n",
       "    'crate': 0,\n",
       "    'host': 'reader5_controller_0',\n",
       "    'link': 0,\n",
       "    'board': 1735,\n",
       "    'type': 'V2718'}],\n",
       "  'channels': {'839': [1056, 1057, 1058, 1059, 1060, 1061, 1062, 1063],\n",
       "   '843': [1080, 1081, 1082, 1083, 1999, 1999, 1084, 1085],\n",
       "   '850': [1024, 1025, 1026, 1027, 1028, 1029, 1030, 1031],\n",
       "   '853': [1032, 1033, 1034, 1035, 1036, 1037, 1038, 1039],\n",
       "   '870': [1000, 1001, 1002, 1003, 1004, 1005, 1006, 1007],\n",
       "   '882': [1048, 1049, 1050, 1051, 1052, 1053, 1054, 1055],\n",
       "   '885': [1008, 1009, 1010, 1011, 1012, 1013, 1014, 1015],\n",
       "   '888': [1072, 1073, 1074, 1075, 1076, 1077, 1078, 1079],\n",
       "   '907': [1040, 1041, 1042, 1043, 1044, 1045, 1046, 1047],\n",
       "   '954': [1064, 1065, 1066, 1067, 1068, 1069, 1070, 1071],\n",
       "   '1011': [1016, 1017, 1018, 1019, 1020, 1021, 1022, 1023]},\n",
       "  'registers': [{'comment': 'board reset register',\n",
       "    'reg': 'EF24',\n",
       "    'val': '0',\n",
       "    'board': 'muon_veto'},\n",
       "   {'comment': 'events per BLT-originally it was 1',\n",
       "    'reg': 'EF1C',\n",
       "    'val': '1',\n",
       "    'board': 'muon_veto'},\n",
       "   {'comment': 'Front Panel Trigger Out Enable Mask',\n",
       "    'reg': '8110',\n",
       "    'val': '00000000',\n",
       "    'board': 'muon_veto'},\n",
       "   {'comment': 'for  BUSY on TRG_OUT, LVDS new management, General Purpose I/O, LVDS[15-4] outputs, LVDS[3-0] inputs, TRG/CLK at TTL level (139) or NIM level (138)',\n",
       "    'reg': '811C',\n",
       "    'val': 'D0138',\n",
       "    'board': 'muon_veto'},\n",
       "   {'comment': '[15:12] single channel trigger, [11:8] single channel trigger, [7:4] nBusy/nVeto, [3:0] nBusy/nVeto',\n",
       "    'reg': '81A0',\n",
       "    'val': '1122',\n",
       "    'board': 'muon_veto'},\n",
       "   {'comment': 'Almost Full level register',\n",
       "    'reg': '816C',\n",
       "    'val': '200',\n",
       "    'board': 'muon_veto'},\n",
       "   {'comment': 'BERR register, 10=enable BERR',\n",
       "    'reg': 'EF00',\n",
       "    'val': '10',\n",
       "    'board': 'muon_veto'},\n",
       "   {'comment': 'acquisition control register. busy_in enabled, count ALL triggers, 1 - S-IN control.',\n",
       "    'reg': '8100',\n",
       "    'val': '101',\n",
       "    'board': 'muon_veto'},\n",
       "   {'comment': 'Trigger logic: 80000000 is software only, software + external C0000000',\n",
       "    'reg': '810C',\n",
       "    'val': 'C0000000',\n",
       "    'board': 'muon_veto'},\n",
       "   {'comment': 'Post Trigger (time between trigger and end of time window). 80 for 2.5 us',\n",
       "    'reg': '8114',\n",
       "    'val': '80',\n",
       "    'board': 'muon_veto'},\n",
       "   {'comment': 'Channel enable mask. FF= all channels on',\n",
       "    'reg': '8120',\n",
       "    'val': 'FF',\n",
       "    'board': 'muon_veto'},\n",
       "   {'comment': 'Buffer organization register. A for shortest window, 0 for longest for old FW.',\n",
       "    'reg': '800C',\n",
       "    'val': 'A',\n",
       "    'board': 'muon_veto'},\n",
       "   {'comment': 'DAC default configuration. 1000 = neg unipolar + offset, 1000',\n",
       "    'reg': '8098',\n",
       "    'val': '1000',\n",
       "    'board': 'muon_veto'},\n",
       "   {'comment': '50: NO ZS + Falling + Sequential + External signal + Non Overlap Triggers, 20050 same with ZLE',\n",
       "    'reg': '8000',\n",
       "    'val': '50',\n",
       "    'board': 'muon_veto'},\n",
       "   {'comment': 'Event size register. Required for new FW. Words.',\n",
       "    'reg': '8020',\n",
       "    'val': '0',\n",
       "    'board': 'muon_veto'},\n",
       "   {'comment': 'Module reset', 'reg': '800A', 'val': '1', 'board': 398},\n",
       "   {'comment': 'Mask A', 'reg': '1020', 'val': 'FFFFFFFF', 'board': 398},\n",
       "   {'comment': 'Mask B', 'reg': '1024', 'val': 'FFFFFFFF', 'board': 398},\n",
       "   {'comment': 'Mask D', 'reg': '1028', 'val': '000FFFFF', 'board': 398},\n",
       "   {'comment': 'Majority threshold', 'reg': '1014', 'val': '5', 'board': 398},\n",
       "   {'comment': 'Coincidence window',\n",
       "    'reg': '1010',\n",
       "    'val': '100',\n",
       "    'board': 398},\n",
       "   {'comment': 'CTRL Register, 301 for TTL, 302 for NIM (inverting polarity)',\n",
       "    'reg': '1018',\n",
       "    'val': '302',\n",
       "    'board': 398}],\n",
       "  'thresholds': {'839': [12880,\n",
       "    12880,\n",
       "    12880,\n",
       "    12880,\n",
       "    12880,\n",
       "    12880,\n",
       "    12880,\n",
       "    12880],\n",
       "   '843': [12880, 12880, 12880, 12880, 12880, 12880, 4000, 4000],\n",
       "   '850': [12880, 12880, 12880, 12880, 12880, 12880, 12880, 12880],\n",
       "   '853': [12880, 12880, 12880, 12880, 12880, 12880, 12880, 12880],\n",
       "   '870': [12880, 12880, 12880, 12880, 12880, 12880, 12880, 12880],\n",
       "   '882': [12880, 12880, 12880, 12880, 12880, 12880, 12880, 12880],\n",
       "   '885': [12880, 12880, 12880, 12880, 12880, 12880, 12880, 12880],\n",
       "   '888': [12880, 12880, 12880, 12880, 12880, 12880, 12880, 12880],\n",
       "   '907': [12880, 12880, 12880, 12880, 12880, 12880, 12880, 12880],\n",
       "   '954': [12880, 12880, 12880, 12880, 12880, 12880, 12880, 12880],\n",
       "   '1011': [12880, 12880, 12880, 12880, 12880, 12880, 12880, 12880]},\n",
       "  'strax_chunk_overlap': 0.5,\n",
       "  'strax_output_path': '/live_data/xenonnt',\n",
       "  'strax_chunk_length': 5,\n",
       "  'strax_fragment_payload_bytes': 220,\n",
       "  'strax_buffer_num_chunks': 2,\n",
       "  'strax_chunk_phase_limit': 2,\n",
       "  'compressor': 'lz4',\n",
       "  'detectors': {'reader0_controller_0': 'tpc',\n",
       "   'reader0_reader_0': 'tpc',\n",
       "   'reader1_reader_0': 'tpc',\n",
       "   'reader2_reader_0': 'tpc',\n",
       "   'reader3_reader_0': 'tpc',\n",
       "   'reader5_controller_0': 'muon_veto',\n",
       "   'reader5_reader_0': 'muon_veto',\n",
       "   'reader6_controller_0': 'neutron_veto',\n",
       "   'reader6_reader_0': 'neutron_veto',\n",
       "   'reader6_reader_1': 'neutron_veto'}},\n",
       " 'comments': [{'user': 'molinario',\n",
       "   'date': datetime.datetime(2021, 1, 14, 11, 48, 49, 568000),\n",
       "   'comment': 'Internal trigger, maj = 5, thr = 12880'}],\n",
       " 'data': [],\n",
       " 'start': datetime.datetime(2021, 1, 14, 11, 48, 49, 585000),\n",
       " 'end': None,\n",
       " 'bootstrax': {'state': 'abandoned',\n",
       "  'host': 'eb0.xenon.local',\n",
       "  'time': datetime.datetime(2021, 1, 14, 11, 52, 0, 545000),\n",
       "  'started_processing': datetime.datetime(2021, 1, 14, 11, 49, 0, 7000),\n",
       "  'reason': \"eb0.xenon.local:\\nRun has a 'bad' tag -- run has been abandoned\\n\",\n",
       "  'next_retry': datetime.datetime(2021, 1, 14, 11, 55, 44, 801000),\n",
       "  'n_failures': 2},\n",
       " 'deleted_data': [{'host': 'eb0.xenon.local',\n",
       "   'type': 'raw_records_aqmon',\n",
       "   'at': datetime.datetime(2021, 1, 14, 11, 51, 0, 199000),\n",
       "   'by': 'eb0.xenon.local'},\n",
       "  {'host': 'eb0.xenon.local',\n",
       "   'type': 'raw_records_mv',\n",
       "   'at': datetime.datetime(2021, 1, 14, 11, 51, 0, 201000),\n",
       "   'by': 'eb0.xenon.local'},\n",
       "  {'host': 'eb0.xenon.local',\n",
       "   'type': 'raw_records_aqmon_nv',\n",
       "   'at': datetime.datetime(2021, 1, 14, 11, 51, 0, 203000),\n",
       "   'by': 'eb0.xenon.local'},\n",
       "  {'host': 'eb0.xenon.local',\n",
       "   'type': 'raw_records',\n",
       "   'at': datetime.datetime(2021, 1, 14, 11, 51, 0, 205000),\n",
       "   'by': 'eb0.xenon.local'},\n",
       "  {'host': 'eb0.xenon.local',\n",
       "   'type': 'raw_records_aux_mv',\n",
       "   'at': datetime.datetime(2021, 1, 14, 11, 51, 0, 207000),\n",
       "   'by': 'eb0.xenon.local'},\n",
       "  {'host': 'eb0.xenon.local',\n",
       "   'type': 'raw_records_he',\n",
       "   'at': datetime.datetime(2021, 1, 14, 11, 51, 0, 209000),\n",
       "   'by': 'eb0.xenon.local'},\n",
       "  {'host': 'eb0.xenon.local',\n",
       "   'type': 'raw_records_nv',\n",
       "   'at': datetime.datetime(2021, 1, 14, 11, 51, 0, 211000),\n",
       "   'by': 'eb0.xenon.local'},\n",
       "  {'type': 'live',\n",
       "   'host': 'daq',\n",
       "   'at': datetime.datetime(2021, 1, 15, 0, 38, 39, 361000),\n",
       "   'by': 'eb0.xenon.local.ajax'}],\n",
       " 'tags': [{'date': datetime.datetime(2021, 1, 14, 11, 51, 14, 496000),\n",
       "   'user': 'Molinario',\n",
       "   'name': 'bad'}],\n",
       " 'rate': {'muon_veto': {'avg': 0.0, 'max': 0.0}}}"
      ]
     },
     "execution_count": 31,
     "metadata": {},
     "output_type": "execute_result"
    }
   ],
   "source": [
    "run_col.find_one({'end':None})"
   ]
  },
  {
   "cell_type": "code",
   "execution_count": null,
   "id": "naked-parts",
   "metadata": {},
   "outputs": [],
   "source": []
  },
  {
   "cell_type": "code",
   "execution_count": 1,
   "id": "piano-kitchen",
   "metadata": {
    "ExecuteTime": {
     "end_time": "2021-03-09T11:56:18.904913Z",
     "start_time": "2021-03-09T11:56:18.539097Z"
    }
   },
   "outputs": [],
   "source": [
    "import matplotlib.pyplot as plt\n"
   ]
  },
  {
   "cell_type": "code",
   "execution_count": 2,
   "id": "under-commerce",
   "metadata": {
    "ExecuteTime": {
     "end_time": "2021-03-09T11:56:30.872988Z",
     "start_time": "2021-03-09T11:56:30.761078Z"
    }
   },
   "outputs": [
    {
     "data": {
      "text/plain": [
       "(0.0, 1.0)"
      ]
     },
     "execution_count": 2,
     "metadata": {},
     "output_type": "execute_result"
    },
    {
     "data": {
      "image/png": "[encoded data removed]",
      "text/plain": [
       "<Figure size 432x288 with 1 Axes>"
      ]
     },
     "metadata": {
      "needs_background": "light"
     },
     "output_type": "display_data"
    }
   ],
   "source": [
    "ax = plt.gca()\n",
    "ax.get_ylim()"
   ]
  },
  {
   "cell_type": "code",
   "execution_count": 21,
   "id": "leading-shirt",
   "metadata": {
    "ExecuteTime": {
     "end_time": "2021-03-09T08:41:21.156076Z",
     "start_time": "2021-03-09T08:41:21.151445Z"
    }
   },
   "outputs": [
    {
     "data": {
      "text/plain": [
       "datetime.datetime(2048, 7, 25, 0, 0)"
      ]
     },
     "execution_count": 21,
     "metadata": {},
     "output_type": "execute_result"
    }
   ],
   "source": [
    "dt +  datetime.timedelta(days=10000)"
   ]
  },
  {
   "cell_type": "code",
   "execution_count": 28,
   "id": "broad-blocking",
   "metadata": {
    "ExecuteTime": {
     "end_time": "2021-03-09T08:43:00.304787Z",
     "start_time": "2021-03-09T08:42:57.741297Z"
    }
   },
   "outputs": [
    {
     "data": {
      "text/plain": [
       "[14049, 14048, 14047]"
      ]
     },
     "execution_count": 28,
     "metadata": {},
     "output_type": "execute_result"
    }
   ],
   "source": [
    "[r['number'] for r in c.find({'start':{'$gt' : dt, \"$lt\": dt + datetime.timedelta(hours=3)},\n",
    "                             'detectors' : 'tpc'\n",
    "                             },\n",
    "                            )]"
   ]
  },
  {
   "cell_type": "code",
   "execution_count": 31,
   "id": "judicial-karen",
   "metadata": {
    "ExecuteTime": {
     "end_time": "2021-03-09T09:18:58.637622Z",
     "start_time": "2021-03-09T09:18:58.632452Z"
    }
   },
   "outputs": [
    {
     "data": {
      "text/plain": [
       "datetime.datetime(1970, 1, 1, 1, 0)"
      ]
     },
     "execution_count": 31,
     "metadata": {},
     "output_type": "execute_result"
    }
   ],
   "source": [
    "datetime.datetime.fromtimestamp(0)"
   ]
  },
  {
   "cell_type": "code",
   "execution_count": 34,
   "id": "powerful-corpus",
   "metadata": {
    "ExecuteTime": {
     "end_time": "2021-03-09T09:29:16.860987Z",
     "start_time": "2021-03-09T09:29:16.855733Z"
    }
   },
   "outputs": [
    {
     "data": {
      "text/plain": [
       "datetime.timedelta(seconds=10800)"
      ]
     },
     "execution_count": 34,
     "metadata": {},
     "output_type": "execute_result"
    }
   ],
   "source": [
    "datetime.timedelta(hours=3)"
   ]
  },
  {
   "cell_type": "code",
   "execution_count": null,
   "id": "driving-arctic",
   "metadata": {},
   "outputs": [],
   "source": []
  }
 ],
 "metadata": {
  "kernelspec": {
   "display_name": "Python 3",
   "language": "python",
   "name": "python3"
  },
  "language_info": {
   "codemirror_mode": {
    "name": "ipython",
    "version": 3
   },
   "file_extension": ".py",
   "mimetype": "text/x-python",
   "name": "python",
   "nbconvert_exporter": "python",
   "pygments_lexer": "ipython3",
   "version": "3.8.5"
  },
  "latex_envs": {
   "LaTeX_envs_menu_present": true,
   "autoclose": false,
   "autocomplete": true,
   "bibliofile": "biblio.bib",
   "cite_by": "apalike",
   "current_citInitial": 1,
   "eqLabelWithNumbers": true,
   "eqNumInitial": 1,
   "hotkeys": {
    "equation": "Ctrl-E",
    "itemize": "Ctrl-I"
   },
   "labels_anchors": false,
   "latex_user_defs": false,
   "report_style_numbering": false,
   "user_envs_cfg": false
  },
  "varInspector": {
   "cols": {
    "lenName": 16,
    "lenType": 16,
    "lenVar": 40
   },
   "kernels_config": {
    "python": {
     "delete_cmd_postfix": "",
     "delete_cmd_prefix": "del ",
     "library": "var_list.py",
     "varRefreshCmd": "print(var_dic_list())"
    },
    "r": {
     "delete_cmd_postfix": ") ",
     "delete_cmd_prefix": "rm(",
     "library": "var_list.r",
     "varRefreshCmd": "cat(var_dic_list()) "
    }
   },
   "types_to_exclude": [
    "module",
    "function",
    "builtin_function_or_method",
    "instance",
    "_Feature"
   ],
   "window_display": false
  }
 },
 "nbformat": 4,
 "nbformat_minor": 5
}
